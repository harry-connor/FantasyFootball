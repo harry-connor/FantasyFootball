{
 "cells": [
  {
   "cell_type": "code",
   "execution_count": 1,
   "id": "dbedf0c3-5706-42d6-83ae-289a13a5b5da",
   "metadata": {
    "tags": []
   },
   "outputs": [],
   "source": [
    "def get_player_id(x):\n",
    "    '''Input Players Webname and return the player ID, full name and team'''\n",
    "    return(merge_.loc[merge_['web_name'].str.contains(x,flags=re.IGNORECASE)][['element','web_name','first_name','team','name']].drop_duplicates(subset='element'))"
   ]
  },
  {
   "cell_type": "code",
   "execution_count": 4,
   "id": "65ee74f6-6a04-4fff-bdf1-a687e20281bf",
   "metadata": {},
   "outputs": [],
   "source": [
    "import requests\n",
    "import pprint\n",
    "import os\n",
    "import pandas as pd\n",
    "import re\n",
    "import numpy as np\n",
    "import time\n",
    "import datetime\n",
    "import matplotlib.pyplot as plt\n",
    "import manager_info\n",
    "\n",
    "%matplotlib inline"
   ]
  },
  {
   "cell_type": "markdown",
   "id": "1d5fadff-1829-49ec-bb8f-09b74c031cb6",
   "metadata": {},
   "source": [
    "# URLs for FPL \n",
    "------------------"
   ]
  },
  {
   "cell_type": "code",
   "execution_count": null,
   "id": "1b77e7ad-d170-4358-b460-217faa73aa54",
   "metadata": {},
   "outputs": [],
   "source": [
    "TOP_LEVEL_PLAYER_INFO = 'https://fantasy.premierleague.com/api/bootstrap-static/'\n",
    "\n",
    "GAMEWEEK_SUMMARY_BY_PLAYER = f'https://fantasy.premierleague.com/api/element-summary/1/'\n",
    "\n",
    "MANAGER_TEAM_INFO_BY_GAMEWEEK = 'https://draft.premierleague.com/api/entry/xxxx/event/1'"
   ]
  },
  {
   "cell_type": "markdown",
   "id": "52a00592-dc33-4a60-ac9a-932783dbb04c",
   "metadata": {
    "tags": []
   },
   "source": [
    "# Access Top Level Player and Team Information Including Names And Top Level Stats\n",
    "------------------"
   ]
  },
  {
   "cell_type": "code",
   "execution_count": null,
   "id": "e49eb42b-60e9-47b5-8209-b3bafe09cd40",
   "metadata": {},
   "outputs": [],
   "source": [
    "# For teams and players\n",
    "\n",
    "getJson = requests.get(TOP_LEVEL_INFO).json()\n",
    "\n",
    "teams = pd.DataFrame.from_dict(getJson['teams'])\n",
    "\n",
    "playerInfo = pd.DataFrame.from_dict(getJson['elements'])\n",
    "playerInfo['element_id'] = playerInfo['id'].copy()"
   ]
  },
  {
   "cell_type": "markdown",
   "id": "c4fe4205-209d-4168-8819-3bafabe7cf76",
   "metadata": {},
   "source": [
    "# Access Detailed Player Information Gameweek By Gameweek\n",
    "\n",
    "URL = f'https://fantasy.premierleague.com/api/element-summary/{i}/'\n",
    "\n",
    "------------------"
   ]
  },
  {
   "cell_type": "code",
   "execution_count": null,
   "id": "7be97f5e-3abb-421b-9f2d-380f66379df0",
   "metadata": {
    "tags": []
   },
   "outputs": [],
   "source": [
    "combinedOutput = pd.DataFrame()\n",
    "for i in np.arange(1,665):\n",
    "    URL = f'https://fantasy.premierleague.com/api/element-summary/{i}/'\n",
    "    \n",
    "    # PLayer Detail Request\n",
    "    a = requests.get(URL)\n",
    "    # Convert Player Detail Request To JSON\n",
    "    b = a.json()\n",
    "    # Convert the JSON key history to Dataframe\n",
    "    c = pd.DataFrame.from_dict(b['history'])\n",
    "    # Combine the output\n",
    "    combinedOutput = pd.concat([combinedOutput,c],axis=0,ignore_index=True)\n",
    "    time.sleep(0.25)\n",
    "    \n",
    "combinedOutput.to_csv('element_summary/element_profile_data_by_gameweek.csv')"
   ]
  },
  {
   "cell_type": "markdown",
   "id": "22f09253-839f-4e2e-b679-5a6a5bcf3ed9",
   "metadata": {},
   "source": [
    "# Access Manager's Team Information In A League Gameweek By Gameweek\n",
    "\n",
    "https://draft.premierleague.com/api/entry/404104/event/9 \n",
    "\n",
    "KEYS = 'picks', 'entry_history', 'subs'\n",
    "\n",
    "Event parameter in url starts at 1\n",
    "\n",
    "Manager Name, Manager ID And Gameweek (event) assigned manually to each dataframe \n",
    "\n",
    "------------------"
   ]
  },
  {
   "cell_type": "code",
   "execution_count": null,
   "id": "7877a8d3-11bd-4878-b200-14566bea59f3",
   "metadata": {},
   "outputs": [],
   "source": [
    "# We are interested in two keys from the request\n",
    "jsonKeys = ['picks','subs']\n",
    "\n",
    "# maxGameweek is used to access the most recent batch of data which includes historical data (gameweek 1 - e.g. 18)\n",
    "maxGameweek = input('Input the most recent gameweek here (int)')\n",
    "\n",
    "# Be sure the maxGameweek input is an int\n",
    "maxGameweek = int(maxGameweek)\n",
    "\n",
    "# access list of manager names and manager ids\n",
    "managerID = manager_info.managerID\n",
    "\n",
    "for i in jsonKeys:\n",
    "    \n",
    "    for j in managerID:\n",
    "\n",
    "        # j[0] == managerID\n",
    "        # j[1] == managerName\n",
    "        # maxGameweek == gameweeks played to date\n",
    "\n",
    "        # New dataframe for each manager\n",
    "        combinedOutput = pd.DataFrame()\n",
    "\n",
    "        # Loop through each gameweek up to max\n",
    "        for k in np.arange(1,maxGameweek):\n",
    "\n",
    "            # request data from each manager id and each gameweek (event/round)\n",
    "            output = pd.DataFrame.from_dict(requests.get(f'https://draft.premierleague.com/api/entry/{j[0]}/event/{k}').json()[i])\n",
    "\n",
    "            # sleep \n",
    "            time.sleep(0.25)\n",
    "\n",
    "            # store manager id in dataframe\n",
    "            output['managerId'] = j[0]\n",
    "\n",
    "            # store manager name in dataframe\n",
    "            output['managerName'] = j[1]\n",
    "\n",
    "            # store gameweek each request\n",
    "            output['event'] = k\n",
    "            \n",
    "            # store key\n",
    "            output['key'] = i\n",
    "\n",
    "            # combine requests into a single dataframe per manger\n",
    "            combinedOutput = pd.concat([combinedOutput,output],axis=0,ignore_index=True)\n",
    "\n",
    "        # Save csvs using manager name and using max gameweek for freshness    \n",
    "        combinedOutput.to_csv(f'manager_player_gameweeks/{j[1]}_max_gw_{maxGameweek}_{i}.csv')  "
   ]
  },
  {
   "cell_type": "markdown",
   "id": "1356fb25-f9e6-4228-b21f-3594dae7fd56",
   "metadata": {},
   "source": [
    "# Join All The Data Together\n",
    "------------------"
   ]
  },
  {
   "cell_type": "code",
   "execution_count": null,
   "id": "a4559d58-8468-4a4e-8b56-6036819bc7ea",
   "metadata": {},
   "outputs": [],
   "source": [
    "import glob\n",
    "\n",
    "#create list of csv files in directory that contain 'picks' and the gameweek in the file name\n",
    "csv_files = glob.glob(f'manager_player_gameweeks/*{maxGameweek}_picks.csv')\n",
    "\n",
    "#create empty list to hold the dataframes\n",
    "df_list = []\n",
    "\n",
    "#loop through csv files and append to df_list\n",
    "for filename in csv_files:\n",
    "    df_list.append(pd.read_csv(filename,index_col=0))\n",
    "\n",
    "#concatenate all dataframes in df_list vertically\n",
    "managerPlayersGameweek = pd.concat(df_list, ignore_index=True)"
   ]
  },
  {
   "attachments": {
    "1d0869ae-9f5b-4805-8ec4-bf7bff095d6b.png": {
     "image/png": "[encoded data removed]"
    },
    "a46309b2-636d-4ed5-a5ef-aacef3332845.png": {
     "image/png": "[encoded data removed]"
    }
   },
   "cell_type": "markdown",
   "id": "578d675f-1558-40aa-a275-b75f1141368a",
   "metadata": {},
   "source": [
    "#### Recoding Needed For Akanji\n",
    "\n",
    " 1. ![image.png](attachment:1d0869ae-9f5b-4805-8ec4-bf7bff095d6b.png)\n",
    "\n",
    " 2. ![image.png](attachment:a46309b2-636d-4ed5-a5ef-aacef3332845.png)"
   ]
  },
  {
   "cell_type": "code",
   "execution_count": null,
   "id": "2e91f545-04aa-4e8e-8abd-5825b55ed6ea",
   "metadata": {},
   "outputs": [],
   "source": [
    "managerPlayersGameweek['element'].replace(608,610,inplace=True)"
   ]
  },
  {
   "cell_type": "markdown",
   "id": "eaa0e21e-82e9-4fba-8133-f3db77450333",
   "metadata": {},
   "source": [
    "# Link Manager's Info With Gameweek Stats, Player Info, Team's Info\n",
    "------------------"
   ]
  },
  {
   "cell_type": "code",
   "execution_count": null,
   "id": "f9ad14f2-476a-4770-bdd1-46cdd8ec203a",
   "metadata": {},
   "outputs": [],
   "source": [
    "# Merge Manager's with gameweek by gameweek stats \n",
    "elementGameweekStats = pd.read_csv('element_summary/element_profile_data_by_gameweek.csv',index_col=0)\n",
    "merge_ = pd.merge(managerPlayersGameweek, elementGameweekStats, left_on = ['event','element'], right_on = ['round','element'], suffixes=('_MGW','_EGS')) \n",
    "\n",
    "# Merge Manager's with Player Info\n",
    "merge_ = pd.merge(merge_, playerInfo, left_on ='element', right_on ='id',suffixes=('','_PI'))\n",
    "\n",
    "# Player's Team Info Added\n",
    "merge_ = pd.merge(merge_,teams[['name','id']],left_on='team',right_on='id',suffixes=('','_T'))\n",
    "\n",
    "# Player's Opponent Team Info Added\n",
    "merge_ = pd.merge(merge_,teams[['name','id']],left_on='opponent_team',right_on='id',suffixes=('','_OppT'))\n",
    "\n",
    "# Tag Player's who contributed points each week for real league totals\n",
    "merge_['total_points_1_11'] = merge_.loc[merge_['position'].between(1,11,inclusive='both')]['total_points'].copy()\n",
    "merge_['total_points_1_11'].fillna(0,inplace=True)"
   ]
  },
  {
   "cell_type": "markdown",
   "id": "f5f07563-e430-4f20-8970-33f189929c1b",
   "metadata": {},
   "source": [
    "# New Datasource 'gameweekRanking': Create A League Ranking For Tableau Viz\n",
    "------------------"
   ]
  },
  {
   "cell_type": "code",
   "execution_count": null,
   "id": "176bb66f-c7e4-441f-8abc-ea3c7daa8222",
   "metadata": {},
   "outputs": [],
   "source": [
    "gameweekRanking = merge_.groupby(['event','managerName'])['total_points_1_11'].sum().reset_index(name='totalPoints(1-11)')\n",
    "gameweekRanking['total_points(1-11)_cumsum'] =  gameweekRanking.groupby(['managerName'])['totalPoints(1-11)'].cumsum()\n",
    "gameweekRanking['gameweekRank'] = gameweekRanking.groupby(['event'])['totalPoints(1-11)'].rank(method='dense',ascending=False)\n",
    "gameweekRanking['leagueRank'] = gameweekRanking.groupby(['event'])['total_points(1-11)_cumsum'].rank(method='dense',ascending=False)\n"
   ]
  },
  {
   "cell_type": "markdown",
   "id": "b2b9e78a-a007-4262-b396-a3fede8de79b",
   "metadata": {},
   "source": [
    "# Create a first gameweek fixed tag for each manager\n",
    "-------------------"
   ]
  },
  {
   "cell_type": "code",
   "execution_count": null,
   "id": "cfc27b66-dd54-495a-a3f1-ef595a2c4719",
   "metadata": {},
   "outputs": [],
   "source": [
    "elementGameweekStats['first_gw_mamager'] = np.nan\n",
    "elementGameweekStats.loc[elementGameweekStats['element'].isin(manager_info.dev_first_team_id),'first_gw_mamager'] = 'Dev'\n",
    "elementGameweekStats.loc[elementGameweekStats['element'].isin(manager_info.luke_first_team_id),'first_gw_mamager'] = 'Luke'\n",
    "elementGameweekStats.loc[elementGameweekStats['element'].isin(manager_info.harry_first_team_id),'first_gw_mamager'] = 'Harry'\n",
    "elementGameweekStats.loc[elementGameweekStats['element'].isin(manager_info.mick_first_team_id),'first_gw_mamager'] = 'Mick'\n",
    "elementGameweekStats.loc[elementGameweekStats['element'].isin(manager_info.sam_first_team_id),'first_gw_mamager'] = 'Sam'\n",
    "elementGameweekStats.loc[elementGameweekStats['element'].isin(manager_info.cameron_first_team_id),'first_gw_mamager'] = 'Cameron'\n",
    "merge_elementsFristGameweek = elementGameweekStats[elementGameweekStats['first_gw_mamager'].notnull()]\n"
   ]
  },
  {
   "cell_type": "markdown",
   "id": "873551d6-0b3e-4ee1-afc0-07d14377a06f",
   "metadata": {},
   "source": [
    "# Generate Outputs For Viz\n",
    "-----------------------"
   ]
  },
  {
   "cell_type": "code",
   "execution_count": null,
   "id": "f506dafc-e1ce-4fb1-b287-2057cf649387",
   "metadata": {},
   "outputs": [],
   "source": [
    "now = datetime.datetime.now()\n",
    "current_date = now.strftime(\"%Y-%m-%d\")\n",
    "\n",
    "# pipeline to tableau\n",
    "merge_.to_csv('final_merge/fantasy_league_data_mr.csv')\n",
    "\n",
    "# record saved by date\n",
    "merge_.to_csv(f'final_merge/fantasy_league_data_({current_date}).csv')\n",
    "\n",
    "gameweekRanking.to_csv('final_merge/gameweek_league_Ranking_mr.csv')\n",
    "\n",
    "gameweekRanking.to_csv(f'final_merge/gameweek_league_Ranking_({current_date}).csv')\n",
    "\n",
    "merge_elementsFristGameweek.to_csv(f'final_merge/elementsFristGameweek_mr.csv')"
   ]
  }
 ],
 "metadata": {
  "kernelspec": {
   "display_name": "Python 3 (ipykernel)",
   "language": "python",
   "name": "python3"
  },
  "language_info": {
   "codemirror_mode": {
    "name": "ipython",
    "version": 3
   },
   "file_extension": ".py",
   "mimetype": "text/x-python",
   "name": "python",
   "nbconvert_exporter": "python",
   "pygments_lexer": "ipython3",
   "version": "3.9.15"
  }
 },
 "nbformat": 4,
 "nbformat_minor": 5
}
